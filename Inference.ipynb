{
 "cells": [
  {
   "cell_type": "code",
   "execution_count": 1,
   "metadata": {},
   "outputs": [
    {
     "name": "stderr",
     "output_type": "stream",
     "text": [
      "Using TensorFlow backend.\n"
     ]
    }
   ],
   "source": [
    "import numpy as np\n",
    "import pandas as pd\n",
    "import pydicom\n",
    "%matplotlib inline\n",
    "import matplotlib.pyplot as plt\n",
    "import keras  \n",
    "import json\n",
    "from skimage.transform import resize\n",
    "# from skimage import data, color\n",
    "from skimage.transform import rescale, resize, downscale_local_mean    \n",
    "from keras.models import model_from_json\n",
    "# from tensorflow.keras.applications.vgg16 import preprocess_input\n",
    "from IPython.display import Image"
   ]
  },
  {
   "cell_type": "code",
   "execution_count": 2,
   "metadata": {},
   "outputs": [],
   "source": [
    "# %store -r best_threshold                 #this works only if I rerun build and train notebook right before running this\n",
    "# print(best_threshold)"
   ]
  },
  {
   "cell_type": "code",
   "execution_count": 2,
   "metadata": {},
   "outputs": [],
   "source": [
    "# This function reads in a .dcm file, checks the important fields for our device, and returns a numpy array\n",
    "# of just the imaging data\n",
    "\n",
    "def check_dicom(filename): \n",
    "    # todo\n",
    "    \n",
    "    print('Load file {} ...'.format(filename))\n",
    "    ds = pydicom.dcmread(filename)       \n",
    "    img = ds.pixel_array\n",
    "      \n",
    "    if (ds.BodyPartExamined != \"CHEST\"):\n",
    "        print (\"Body part not chest, unable to process this file\")\n",
    "        return\n",
    "    \n",
    "    if ds.Modality != 'DX' :\n",
    "        print(\"Modality not DX(X-Ray), unable to process this file\")\n",
    "        return\n",
    "    \n",
    "    if ds.PatientPosition not in ['PA', 'AP']:        \n",
    "        print(\"Patient position not PA or AP, unable to process this file\")\n",
    "        return\n",
    "    \n",
    "    else:    \n",
    "        print(\"File processed correctly\")    \n",
    "        return img\n",
    "    \n",
    "    \n",
    "    \n",
    "# This function takes the numpy array output by check_dicom and \n",
    "# runs the appropriate pre-processing needed for our model input\n",
    "\n",
    "def preprocess_image(img, img_mean,img_std, img_size):    \n",
    "    # todo\n",
    "    img = (img - img_mean)/img_std\n",
    "    img = resize(img, img_size)\n",
    "    \n",
    "    return img\n",
    "\n",
    "# This function loads in our trained model w/ weights and compiles it \n",
    "\n",
    "def load_model(model_path, weight_path):\n",
    "    # todo\n",
    "    json_file = open(model_path, 'r')\n",
    "    model_path = json_file.read()\n",
    "    json_file.close()\n",
    "    model = model_from_json(model_path)\n",
    "    #model.summary()\n",
    "    \n",
    "    model.load_weights(weight_path)\n",
    "    \n",
    "    return model\n",
    "\n",
    "# This function uses our device's threshold parameters to predict whether or not\n",
    "# the image shows the presence of pneumonia using our trained model\n",
    "\n",
    "def predict_image(model, img, thresh): \n",
    "    # todo    \n",
    "    pred_Y = model.predict(img, batch_size = 1, verbose = True)  \n",
    "    prediction=0\n",
    "    print(pred_Y)\n",
    "    if pred_Y > thresh:\n",
    "        prediction=1\n",
    "    return prediction "
   ]
  },
  {
   "cell_type": "code",
   "execution_count": 3,
   "metadata": {},
   "outputs": [
    {
     "name": "stdout",
     "output_type": "stream",
     "text": [
      "Load file test1.dcm ...\n",
      "File processed correctly\n",
      "(1, 224, 224, 3)\n",
      "1/1 [==============================] - 2s 2s/step\n",
      "[[0.5034862]]\n",
      "0\n",
      "Load file test2.dcm ...\n",
      "File processed correctly\n",
      "(1, 224, 224, 3)\n",
      "1/1 [==============================] - 1s 1s/step\n",
      "[[0.49512303]]\n",
      "0\n",
      "Load file test3.dcm ...\n",
      "File processed correctly\n",
      "(1, 224, 224, 3)\n",
      "1/1 [==============================] - 1s 1s/step\n",
      "[[0.5023626]]\n",
      "0\n",
      "Load file test4.dcm ...\n",
      "Body part not chest, unable to process this file\n",
      "Load file test5.dcm ...\n",
      "Modality not DX(X-Ray), unable to process this file\n",
      "Load file test6.dcm ...\n",
      "Patient position not PA or AP, unable to process this file\n"
     ]
    }
   ],
   "source": [
    "test_dicoms = ['test1.dcm','test2.dcm','test3.dcm','test4.dcm','test5.dcm','test6.dcm']\n",
    "\n",
    "model_path = \"my_model.json\"\n",
    "weight_path=\"{}_my_model.best.hdf5\".format('xray_class')\n",
    "\n",
    "IMG_SIZE=(1, 224,224, 3) # This might be different if you did not use vgg16\n",
    " \n",
    "img_mean = 4.667375 # loads the mean image value they used during training preprocessing\n",
    "img_std = 67.51837 # loads the std dev image value they used during training preprocessing\n",
    "\n",
    "my_model = load_model(model_path, weight_path) #loads model\n",
    "thresh = 0.53166294           #best_threshold   #loads the threshold they chose for model classification \n",
    "\n",
    "# use the .dcm files to test your prediction\n",
    "for i in test_dicoms:\n",
    "    \n",
    "    img = np.array([])\n",
    "    img = check_dicom(i)\n",
    "    \n",
    "    \n",
    "    if img is None:\n",
    "        continue\n",
    "    \n",
    "#     img_mean = np.mean(img)\n",
    "#     img_std = np.std(img)       \n",
    "    img_proc = preprocess_image(img, img_mean,img_std, IMG_SIZE)\n",
    "    print(img_proc.shape)\n",
    "    pred = predict_image(my_model,img_proc,thresh)\n",
    "    print(pred)"
   ]
  }
 ],
 "metadata": {
  "kernelspec": {
   "display_name": "Python 3",
   "language": "python",
   "name": "python3"
  },
  "language_info": {
   "codemirror_mode": {
    "name": "ipython",
    "version": 3
   },
   "file_extension": ".py",
   "mimetype": "text/x-python",
   "name": "python",
   "nbconvert_exporter": "python",
   "pygments_lexer": "ipython3",
   "version": "3.7.6"
  }
 },
 "nbformat": 4,
 "nbformat_minor": 2
}
